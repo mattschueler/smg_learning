{
 "cells": [
  {
   "cell_type": "code",
   "execution_count": 12,
   "metadata": {},
   "outputs": [],
   "source": [
    "import numpy as np\n",
    "import csv\n",
    "import cv2\n",
    "import os\n",
    "import tensorflow as tf\n",
    "from numpy import linalg as LA\n",
    "import matplotlib.pyplot as plt\n",
    "from sklearn.svm import SVR\n",
    "from scipy.ndimage.filters import uniform_filter\n",
    "%matplotlib qt\n",
    "\n",
    "def window_stdev(X, window_size):\n",
    "    c1 = uniform_filter(X, window_size, mode='reflect')\n",
    "    c2 = uniform_filter(X*X, window_size, mode='reflect')\n",
    "    return np.sqrt(c2 - c1*c1)"
   ]
  },
  {
   "cell_type": "code",
   "execution_count": 13,
   "metadata": {},
   "outputs": [],
   "source": [
    "images = np.load('vera_proc/BallGrab-200205-01-images.npy')"
   ]
  },
  {
   "cell_type": "code",
   "execution_count": 37,
   "metadata": {},
   "outputs": [],
   "source": [
    "first_im = images[0,...]\n",
    "\n",
    "first_im_pow = np.power(first_im,1/5)\n",
    "first_im_pow_nm = (first_im_pow-np.mean(first_im_pow))/np.std(first_im_pow)"
   ]
  },
  {
   "cell_type": "code",
   "execution_count": 38,
   "metadata": {},
   "outputs": [
    {
     "name": "stdout",
     "output_type": "stream",
     "text": [
      "0.0 0.9999999999999999\n",
      "\n",
      "4.7718343910546986e-06 0.64324569356301\n",
      "0.08624562476434652 0.9155358977672006\n",
      "-2.783985080112398 6.408730460289493\n"
     ]
    }
   ],
   "source": [
    "print(np.min(images),np.max(images))\n",
    "print()\n",
    "print(np.min(first_im),np.max(first_im))\n",
    "print(np.min(first_im_pow),np.max(first_im_pow))\n",
    "print(np.min(first_im_pow_nm),np.max(first_im_pow_nm))"
   ]
  },
  {
   "cell_type": "code",
   "execution_count": 36,
   "metadata": {},
   "outputs": [],
   "source": [
    "names = [first_im,\n",
    "         first_im_pow,\n",
    "         first_im_pow_nm]\n",
    "m=2\n",
    "n=len(names)\n",
    "for j in range(n):\n",
    "    plt.subplot(m,n,j+1),plt.imshow(names[j])\n",
    "    plt.subplot(m,n,n+j+1),plt.hist(names[j].flatten(),bins=500)"
   ]
  },
  {
   "cell_type": "code",
   "execution_count": null,
   "metadata": {},
   "outputs": [],
   "source": []
  }
 ],
 "metadata": {
  "kernelspec": {
   "display_name": "Python 3",
   "language": "python",
   "name": "python3"
  },
  "language_info": {
   "codemirror_mode": {
    "name": "ipython",
    "version": 3
   },
   "file_extension": ".py",
   "mimetype": "text/x-python",
   "name": "python",
   "nbconvert_exporter": "python",
   "pygments_lexer": "ipython3",
   "version": "3.6.7"
  }
 },
 "nbformat": 4,
 "nbformat_minor": 4
}

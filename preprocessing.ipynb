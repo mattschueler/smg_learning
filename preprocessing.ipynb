{
 "cells": [
  {
   "cell_type": "code",
   "execution_count": 85,
   "metadata": {},
   "outputs": [],
   "source": [
    "import numpy as np\n",
    "import csv\n",
    "import cv2\n",
    "import os\n",
    "import tensorflow as tf\n",
    "from numpy import linalg as LA\n",
    "import matplotlib.pyplot as plt\n",
    "from sklearn.svm import SVR\n",
    "from scipy.ndimage.filters import uniform_filter\n",
    "%matplotlib qt\n",
    "\n",
    "def window_stdev(X, window_size):\n",
    "    c1 = uniform_filter(X, window_size, mode='reflect')\n",
    "    c2 = uniform_filter(X*X, window_size, mode='reflect')\n",
    "    return np.sqrt(c2 - c1*c1)"
   ]
  },
  {
   "cell_type": "code",
   "execution_count": 3,
   "metadata": {},
   "outputs": [
    {
     "name": "stdout",
     "output_type": "stream",
     "text": [
      "['BallGrab-200205-01-images.npy', 'BottGrab-200205-01-images.npy', 'FistRelax-200205-01-images.npy', 'IndExt-200205-01-images.npy', 'MidFlex-200205-01-images.npy', 'PinFlex-200205-01-images.npy', 'RinFlex-200205-01-images.npy', 'ThuExt-200205-01-images.npy']\n"
     ]
    }
   ],
   "source": [
    "trials = [f for f in os.listdir('train_data') if f.endswith('-images.npy')]\n",
    "print(trials)\n",
    "\n",
    "trial = 'BallGrab-200205-01-images.npy'\n",
    "data = np.float32(np.load('train_data/{0}'.format(trial)))\n",
    "data.shape"
   ]
  },
  {
   "cell_type": "code",
   "execution_count": 102,
   "metadata": {},
   "outputs": [
    {
     "name": "stdout",
     "output_type": "stream",
     "text": [
      "(636, 256)\n",
      "(636, 256)\n"
     ]
    }
   ],
   "source": [
    "mn = np.mean(data)\n",
    "sd = np.std(data)\n",
    "thresh = np.float32(np.greater(data,mn))\n",
    "cv = sd/mn\n",
    "\n",
    "blur = cv2.medianBlur(data[0,...],3)\n",
    "diff = data[0,...] - blur\n",
    "\n",
    "print(data[0,...].shape)\n",
    "sf = window_stdev(data[0,...],9)\n",
    "print(sf.shape)\n",
    "\n",
    "mimg = thresh[0,...]\n",
    "simg = (data[0,...]-mn)/sd\n",
    "kernel = np.ones((5,5),np.uint8)\n",
    "opimg = cv2.morphologyEx(mimg, cv2.MORPH_OPEN, kernel)\n",
    "soimg = cv2.morphologyEx(simg, cv2.MORPH_OPEN, kernel)"
   ]
  },
  {
   "cell_type": "code",
   "execution_count": 106,
   "metadata": {},
   "outputs": [],
   "source": [
    "n=5\n",
    "plt.subplot(2,n,1),plt.imshow(data[0,...])\n",
    "plt.subplot(2,n,2),plt.imshow(blur)\n",
    "plt.subplot(2,n,3),plt.imshow(diff)\n",
    "plt.subplot(2,n,4),plt.imshow(med)\n",
    "plt.subplot(2,n,5),plt.imshow(data[0,...]-med)\n",
    "\n",
    "plt.subplot(2,n,6),plt.hist(data[0,...].flatten(),bins=500)\n",
    "plt.subplot(2,n,7),plt.hist(blur.flatten(),bins=500)\n",
    "plt.subplot(2,n,8),plt.hist(diff.flatten(),bins=500)\n",
    "plt.subplot(2,n,9),plt.hist(med.flatten(),bins=500)\n",
    "plt.subplot(2,n,10),plt.hist((data[0,...]-med).flatten(),bins=500)\n",
    "\n",
    "plt.show()"
   ]
  },
  {
   "cell_type": "code",
   "execution_count": null,
   "metadata": {},
   "outputs": [],
   "source": []
  }
 ],
 "metadata": {
  "kernelspec": {
   "display_name": "Python 3",
   "language": "python",
   "name": "python3"
  },
  "language_info": {
   "codemirror_mode": {
    "name": "ipython",
    "version": 3
   },
   "file_extension": ".py",
   "mimetype": "text/x-python",
   "name": "python",
   "nbconvert_exporter": "python",
   "pygments_lexer": "ipython3",
   "version": "3.6.7"
  }
 },
 "nbformat": 4,
 "nbformat_minor": 4
}

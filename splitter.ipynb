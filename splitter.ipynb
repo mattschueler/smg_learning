{
 "cells": [
  {
   "cell_type": "code",
   "execution_count": 4,
   "metadata": {},
   "outputs": [
    {
     "name": "stdout",
     "output_type": "stream",
     "text": [
      "loading testing data...\n",
      "saving BallGrab-200205-01\n",
      "saving BallGrab-200205-02\n",
      "saving BottGrab-200205-01\n",
      "saving FistRelax-200205-01\n",
      "saving FistRelax-200205-02\n"
     ]
    }
   ],
   "source": [
    "import numpy as np\n",
    "import os\n",
    "\n",
    "data_folder = 'mod_data'\n",
    "proc_folder = 'prc_data'\n",
    "print('loading testing data...')\n",
    "vera_mod = [f for f in os.listdir(data_folder) if f.endswith('-images.npy')]\n",
    "vico_mod = [f for f in os.listdir(data_folder) if f.endswith('-angles.npy')]\n",
    "for i,(im,an) in enumerate(zip(vera_mod,vico_mod)):\n",
    "    im_data = np.load('{0}/{1}'.format(data_folder,im))\n",
    "    an_data = np.load('{0}/{1}'.format(data_folder,an))\n",
    "\n",
    "    split = 0.7\n",
    "    datalen = int(im_data.shape[0]*split)\n",
    "    train_im_data = im_data[:datalen,...]\n",
    "    test_im_data = im_data[datalen:,...]\n",
    "    train_an_data = an_data[:datalen,...]\n",
    "    test_an_data = an_data[datalen:,...]\n",
    "\n",
    "    name = '-'.join(im.split('-')[:-1])\n",
    "    print('saving',name)\n",
    "    np.save('{0}/{1}-train-images.npy'.format(proc_folder,name),train_im_data)\n",
    "    np.save('{0}/{1}-test-images.npy'.format(proc_folder,name),test_im_data)\n",
    "    np.save('{0}/{1}-train-angles.npy'.format(proc_folder,name),train_an_data)\n",
    "    np.save('{0}/{1}-test-angles.npy'.format(proc_folder,name),test_an_data)"
   ]
  },
  {
   "cell_type": "code",
   "execution_count": null,
   "metadata": {},
   "outputs": [],
   "source": []
  }
 ],
 "metadata": {
  "kernelspec": {
   "display_name": "Python 3",
   "language": "python",
   "name": "python3"
  },
  "language_info": {
   "codemirror_mode": {
    "name": "ipython",
    "version": 3
   },
   "file_extension": ".py",
   "mimetype": "text/x-python",
   "name": "python",
   "nbconvert_exporter": "python",
   "pygments_lexer": "ipython3",
   "version": "3.6.7"
  }
 },
 "nbformat": 4,
 "nbformat_minor": 4
}
